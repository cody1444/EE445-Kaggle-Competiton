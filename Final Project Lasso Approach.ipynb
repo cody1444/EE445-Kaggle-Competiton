{
 "cells": [
  {
   "cell_type": "code",
   "execution_count": 61,
   "id": "d4efb362",
   "metadata": {},
   "outputs": [],
   "source": [
    "import pandas as pd\n",
    "import numpy as np\n",
    "\n",
    "train_clinical = './train_clinical_data.csv'\n",
    "train_peptides = './train_peptides.csv'\n",
    "train_supp_clinical = './supplemental_clinical_data.csv'\n",
    "train_proteins = './train_proteins.csv'"
   ]
  },
  {
   "cell_type": "code",
   "execution_count": 62,
   "id": "33b22db7",
   "metadata": {},
   "outputs": [],
   "source": [
    "clinical_data = pd.read_csv(train_clinical)\n",
    "protein_data = pd.read_csv(train_proteins)\n",
    "peptide_data = pd.read_csv(train_peptides)\n",
    "supp_data = pd.read_csv(train_supp_clinical)\n",
    "\n",
    "clinical_data['upd23b_clinical_state_on_medication'] = clinical_data['upd23b_clinical_state_on_medication'].replace({'On': 1})\n",
    "clinical_data['upd23b_clinical_state_on_medication'] = clinical_data['upd23b_clinical_state_on_medication'].replace({'Off': -1})\n",
    "clinical_data['upd23b_clinical_state_on_medication'] = clinical_data['upd23b_clinical_state_on_medication'].fillna(0)\n",
    "\n",
    "#updrs4mean = clinical_data[\"updrs_4\"].mean()\n",
    "#clinical_data['updrs_4'] = clinical_data['updrs_4'].fillna(updrs4mean)\n",
    "\n",
    "#updrs3mean = clinical_data[\"updrs_3\"].mean()\n",
    "#clinical_data['updrs_3'] = clinical_data['updrs_3'].fillna(updrs3mean)\n",
    "\n",
    "#updrs2mean = clinical_data[\"updrs_2\"].mean()\n",
    "#clinical_data['updrs_2'] = clinical_data['updrs_2'].fillna(updrs2mean)\n",
    "\n",
    "#updrs1mean = clinical_data[\"updrs_1\"].mean()\n",
    "#clinical_data['updrs_1'] = clinical_data['updrs_1'].fillna(updrs1mean)\n",
    "\n",
    "#clinical_data['visit_month'] = clinical_data['visit_month'].fillna(0)\n",
    "#clinical_data['visit_month'] = clinical_data['visit_month'].fillna(0)\n",
    "\n",
    "#supp_data['upd23b_clinical_state_on_medication'] = supp_data['upd23b_clinical_state_on_medication'].replace({'On': 1})\n",
    "#supp_data['upd23b_clinical_state_on_medication'] = supp_data['upd23b_clinical_state_on_medication'].replace({'Off': -1})\n",
    "#supp_data['upd23b_clinical_state_on_medication'] = supp_data['upd23b_clinical_state_on_medication'].fillna(0)\n",
    "\n",
    "#updrs4mean = supp_data[\"updrs_4\"].mean()\n",
    "#supp_data['updrs_4'] = supp_data['updrs_4'].fillna(updrs4mean)\n",
    "\n",
    "#updrs3mean = supp_data[\"updrs_3\"].mean()\n",
    "#supp_data['updrs_3'] = supp_data['updrs_3'].fillna(updrs3mean)\n",
    "\n",
    "#updrs2mean = supp_data[\"updrs_2\"].mean()\n",
    "#supp_data['updrs_2'] = supp_data['updrs_2'].fillna(updrs2mean)\n",
    "\n",
    "#updrs1mean = supp_data[\"updrs_1\"].mean()\n",
    "#supp_data['updrs_1'] = supp_data['updrs_1'].fillna(updrs1mean)\n"
   ]
  },
  {
   "cell_type": "code",
   "execution_count": 89,
   "id": "508696bc",
   "metadata": {},
   "outputs": [],
   "source": [
    "def Get_ALL_Protein_Names(df_protein):\n",
    "    return df_protein['UniProt'].unique().tolist()\n",
    "\n",
    "def Get_Protein_Names(df_protein, visit_id):\n",
    "    return protein_data.loc[protein_data['visit_id'] == visit_id]['UniProt'].tolist()\n",
    "\n",
    "def Get_Patient_Info(df_clinical):\n",
    "    return df_clinical.columns[0:3].tolist() + [df_clinical.columns[-1]]\n",
    "\n",
    "def Get_Targets(df_clinical):\n",
    "    return df_clinical.columns[3:7].tolist()\n",
    "\n",
    "def Get_Protein_Visit_ID(df_protein):\n",
    "    return df_protein['visit_id'].unique().tolist()\n",
    "\n",
    "def Get_Clinical_Visit_ID(df_clinical):\n",
    "    return df_clinical['visit_id'].tolist()\n",
    "\n",
    "def Get_NPX(df_protein, visit_id):\n",
    "    return df_protein.loc[df_protein['visit_id'] == visit_id]['NPX'].tolist()\n",
    "\n",
    "def Create_Patient_Data_Dict(visit_id):\n",
    "    pat_id, vis_mon = visit_id.split('_')\n",
    "    return {'patient_id': int(pat_id), 'visit_month': int(vis_mon), 'visit_id': visit_id }\n",
    "\n",
    "def Create_Protein_Data_Dict(df_protein, NPX_data, visit_id):\n",
    "    return dict(zip(Get_Protein_Names(df_protein, visit_id), NPX_data)) | Create_Patient_Data_Dict(visit_id)\n",
    "    \n",
    "def Find_Visit_ID_Only_Protein_Measured(df_clinical, df_protein):\n",
    "    protein_list = Get_Protein_Visit_ID(df_protein)\n",
    "    clinical_list = Get_Clinical_Visit_ID(df_clinical)\n",
    "    only_protein = [visit_id for visit_id in protein_list if visit_id not in clinical_list]\n",
    "    return only_protein\n",
    "\n",
    "def Find_Visit_ID_Only_UPDRS_Measured(df_clinical, df_protein):\n",
    "    protein_list = Get_Protein_Visit_ID(df_protein)\n",
    "    clinical_list = Get_Clinical_Visit_ID(df_clinical)\n",
    "    only_UPDRS = [visit_id for visit_id in clinical_list if visit_id not in protein_list]\n",
    "    return only_UPDRS\n",
    "\n",
    "def Find_Visit_ID_Protein_and_UPDRS_Measured(df_clinical, df_protein):\n",
    "    return [visit_id for visit_id in Get_Clinical_Visit_ID(df_clinical) if visit_id in Get_Protein_Visit_ID(df_protein)]\n",
    "\n",
    "def Add_Rows_Only_Protein_Measured(df, only_prot_visit_id, df_protein):\n",
    "    for visit_id in only_prot_visit_id:\n",
    "        NPX_data = Get_NPX(df_protein, visit_id)\n",
    "        protein_info = pd.DataFrame(Create_Protein_Data_Dict(df_protein, NPX_data, visit_id), index=[0])\n",
    "        df = pd.concat([df, protein_info], axis = 0)\n",
    "    return df\n",
    "\n",
    "def Add_Protein_Data(df, df_clinical, df_protein):\n",
    "    prot_visit_id = Find_Visit_ID_Protein_and_UPDRS_Measured(df_clinical, df_protein)\n",
    "    for visit_id in prot_visit_id:\n",
    "        NPX_data = Get_NPX(df_protein, visit_id)\n",
    "        #protein_info = pd.DataFrame(Create_Protein_Data_Dict(df_protein, NPX_data, visit_id), index=[0])\n",
    "        df.loc[df.index[df['visit_id']==visit_id], Get_Protein_Names(df_protein, visit_id)] = NPX_data\n",
    "    return df\n",
    "\n",
    "def Sort_and_Index(df):\n",
    "    df = df.sort_values(by=['patient_id', 'visit_month'])\n",
    "    df = df.reset_index()\n",
    "    return df.drop(['index'], axis = 1)\n",
    "\n",
    "def Create_Combined_DataFrame(df_clinical, df_protein):\n",
    "    protein_cols = Get_ALL_Protein_Names(df_protein)\n",
    "    patient_cols = Get_Patient_Info(df_clinical)\n",
    "    target_cols = Get_Targets(df_clinical)\n",
    "    df_with_UniProt_cols = pd.DataFrame(columns = protein_cols, index=df_clinical.index)\n",
    "    clinical_left = df_clinical[patient_cols]\n",
    "    clinical_right = df_clinical[target_cols]\n",
    "    df = pd.concat([clinical_left, df_with_UniProt_cols, clinical_right], axis = 1)\n",
    "    only_p = Find_Visit_ID_Only_Protein_Measured(clinical_data, protein_data)\n",
    "    df = Add_Rows_Only_Protein_Measured(df, only_p, protein_data)\n",
    "    df = Sort_and_Index(df)\n",
    "    return Add_Protein_Data(df, df_clinical, df_protein)\n",
    "\n",
    "df = Create_Combined_DataFrame(clinical_data, protein_data)\n",
    "df = df.fillna(method = 'pad')\n",
    "df = df.fillna(0)"
   ]
  },
  {
   "cell_type": "code",
   "execution_count": 64,
   "id": "2817f055",
   "metadata": {},
   "outputs": [],
   "source": [
    "from sklearn.linear_model import LinearRegression\n",
    "from sklearn.model_selection import train_test_split\n",
    "from sklearn.impute import SimpleImputer\n",
    "from sklearn.preprocessing import StandardScaler, OneHotEncoder\n",
    "from sklearn.compose import ColumnTransformer\n",
    "from sklearn.pipeline import Pipeline\n",
    "from sklearn.linear_model import Lasso"
   ]
  },
  {
   "cell_type": "code",
   "execution_count": 90,
   "id": "91f98467",
   "metadata": {},
   "outputs": [
    {
     "name": "stdout",
     "output_type": "stream",
     "text": [
      "     visit_id  patient_id  visit_month  upd23b_clinical_state_on_medication  \\\n",
      "0        55_0          55            0                                  0.0   \n",
      "13      942_0         942            0                                  0.0   \n",
      "28     1517_0        1517            0                                  1.0   \n",
      "38     1923_0        1923            0                                  0.0   \n",
      "45     2660_0        2660            0                                  0.0   \n",
      "...       ...         ...          ...                                  ...   \n",
      "2595  63875_0       63875            0                                  0.0   \n",
      "2604  63889_0       63889            0                                 -1.0   \n",
      "2614  64669_0       64669            0                                  0.0   \n",
      "2629  64674_0       64674            0                                  0.0   \n",
      "2645  65043_0       65043            0                                  0.0   \n",
      "\n",
      "       O00391    O00533   O00584   O14498   O14773   O14791  ...   Q9Y646  \\\n",
      "0     11254.3  732430.0  39585.8  41526.9  31238.0  4202.71  ...  23833.7   \n",
      "13    13530.8  753832.0  43048.9  43503.6  33577.6  5367.06  ...  22186.5   \n",
      "28    11648.9  419015.0  35053.8  26360.5  17466.3  2784.40  ...  19771.6   \n",
      "38    21361.8  866985.0  32035.1  32880.5  13373.1  2686.27  ...  26346.2   \n",
      "45    21361.8  579829.0  28259.8  29883.2  19134.1  1884.61  ...  25630.0   \n",
      "...       ...       ...      ...      ...      ...      ...  ...      ...   \n",
      "2595  10216.7  562169.0  31586.1  22355.7  24650.4  2123.90  ...  18234.8   \n",
      "2604  12211.4  409011.0  25629.1  26968.6  14566.3  1588.33  ...  13170.0   \n",
      "2614  10806.5  491365.0  26262.8  26712.7  15372.5  2995.08  ...  19820.5   \n",
      "2629  10806.5  351914.0  21625.1  17712.4  20849.8  3455.80  ...  22257.6   \n",
      "2645  13472.4  927954.0  42661.5  43663.2  20071.3  3278.88  ...  28346.5   \n",
      "\n",
      "       Q9Y6R7    P01594   P02792    P32754    P60174   Q13449    Q99683  \\\n",
      "0     18953.5      0.00      0.0       0.0      0.00      0.0       0.0   \n",
      "13    21717.1      0.00  28004.3   78083.4  29641.00  52374.0  114007.0   \n",
      "28    14699.5  18356.40  25826.9  124675.0  18494.30  32892.8   90539.1   \n",
      "38    23597.1  17422.50  27842.6   75856.4  12385.70  22141.7   93929.3   \n",
      "45    17990.9  10813.80  27040.2  103346.0  14354.80  29919.2   86771.8   \n",
      "...       ...       ...      ...       ...       ...      ...       ...   \n",
      "2595  22909.1  12991.90  12190.2  108133.0  15677.80  28445.1   93368.6   \n",
      "2604  26273.6  17725.00   8943.7  113777.0   6414.41  26380.4   82380.5   \n",
      "2614  25094.2  11587.50  14343.7   83117.2  10704.60  30778.7  109909.0   \n",
      "2629  10510.5   6551.39  13407.9   50974.0  10704.60  26936.4   98204.8   \n",
      "2645  35617.5   9236.78  14833.4   35967.5  10704.60  57483.7  100907.0   \n",
      "\n",
      "       Q99829   Q9UKV8  \n",
      "0         0.0      0.0  \n",
      "13    15790.0  74976.1  \n",
      "28    11373.4  55379.8  \n",
      "38    12141.1  64302.3  \n",
      "45    14443.4  55047.2  \n",
      "...       ...      ...  \n",
      "2595  14416.9  85051.3  \n",
      "2604  18592.1  82577.7  \n",
      "2614  15110.2  63783.2  \n",
      "2629  15110.2  64857.7  \n",
      "2645  15110.2  37584.6  \n",
      "\n",
      "[248 rows x 231 columns]\n"
     ]
    }
   ],
   "source": [
    "target_cols = Get_Targets(clinical_data)\n",
    "protein_cols = GeneratorExit(protein_data)\n",
    "x = df.drop(target_cols, axis=1).loc[df['visit_month'] == 0]\n",
    "y = df[target_cols].loc[df['visit_month'] == 0]\n",
    "y = y.drop('updrs_4', axis=1)"
   ]
  },
  {
   "cell_type": "code",
   "execution_count": 91,
   "id": "6ad3b353",
   "metadata": {},
   "outputs": [],
   "source": [
    "x_train, x_test, y_train, y_test = train_test_split(x, y, test_size=0.2, random_state=42)"
   ]
  },
  {
   "cell_type": "code",
   "execution_count": 92,
   "id": "553b7e02",
   "metadata": {},
   "outputs": [],
   "source": [
    "# Drop rows containing NaN\n",
    "y_train_sparse = y_train.dropna()\n",
    "x_train_sparse = x_train.loc[y_train_sparse.index]\n",
    "\n",
    "#x_train.to_csv('./x_train.csv', index=False)\n",
    "\n",
    "y_test_sparse = y_test.dropna()\n",
    "x_test_sparse = x_test.loc[y_test_sparse.index]"
   ]
  },
  {
   "cell_type": "code",
   "execution_count": 93,
   "id": "1e0de692",
   "metadata": {},
   "outputs": [
    {
     "name": "stdout",
     "output_type": "stream",
     "text": [
      "  (0, 3)\t1.9403856837722755\n",
      "  (0, 20)\t-1.0844201943450745e-05\n",
      "  (0, 76)\t-4.493554525704333e-06\n",
      "  (0, 141)\t-7.130289196399911e-06\n",
      "  (0, 150)\t4.3261196508772184e-07\n",
      "  (0, 211)\t1.3086046091575458e-05\n",
      "  (1, 3)\t1.6421896665989928\n",
      "  (1, 15)\t-5.5298961315451394e-05\n",
      "  (1, 27)\t6.590055789146742e-08\n",
      "  (1, 29)\t-1.463759572588744e-07\n",
      "  (1, 49)\t1.3186403874897435e-06\n",
      "  (1, 84)\t2.745879367623066e-07\n",
      "  (1, 161)\t-6.321068585444323e-07\n",
      "  (2, 3)\t2.6570816417669954\n",
      "  (2, 5)\t-7.257894417487691e-06\n",
      "  (2, 6)\t0.00013243557908285966\n",
      "  (2, 15)\t-0.00012461818402306236\n",
      "  (2, 19)\t2.3434543635772083e-06\n",
      "  (2, 23)\t-1.792023935878274e-06\n",
      "  (2, 27)\t1.8168582708525904e-07\n",
      "  (2, 28)\t4.1527133819703984e-07\n",
      "  (2, 45)\t6.818174636004226e-08\n",
      "  (2, 49)\t1.911201094172491e-05\n",
      "  (2, 54)\t-7.504308390007411e-05\n",
      "  (2, 55)\t-1.386300912947046e-05\n",
      "  (2, 58)\t1.7034905795989213e-05\n",
      "  (2, 67)\t5.246162977884142e-07\n",
      "  (2, 71)\t-4.605902170434472e-08\n",
      "  (2, 83)\t0.00012850035287582774\n",
      "  (2, 84)\t7.06070774084114e-06\n",
      "  (2, 98)\t2.9229872767904515e-05\n",
      "  (2, 109)\t-4.235515101891111e-07\n",
      "  (2, 113)\t2.0141850234395732e-05\n",
      "  (2, 117)\t-9.842066540401293e-06\n",
      "  (2, 144)\t1.8700381845620054e-06\n",
      "  (2, 147)\t-3.0773666854094695e-05\n",
      "  (2, 163)\t-1.7047836238489118e-05\n",
      "  (2, 174)\t5.947783052811017e-05\n",
      "  (2, 188)\t7.646320271471093e-06\n",
      "  (2, 199)\t0.0005620806272290897\n",
      "  (2, 212)\t-8.132863962952589e-05\n",
      "  (2, 216)\t-2.8412485200544342e-05\n",
      "  (2, 217)\t8.078573164690028e-05\n",
      "  (2, 218)\t3.2970442250188495e-05\n",
      "  (2, 221)\t-3.444037331180293e-05\n",
      "  (2, 230)\t-1.4204199093360248e-06\n"
     ]
    }
   ],
   "source": [
    "# Train the model\n",
    "lasso = Lasso(normalize = True,alpha = .055).fit(x_train,y_train)\n",
    "print(lasso.sparse_coef_)"
   ]
  },
  {
   "cell_type": "code",
   "execution_count": 94,
   "id": "60cb7bc1",
   "metadata": {},
   "outputs": [],
   "source": [
    "y_pred = lasso.predict(x_test)"
   ]
  },
  {
   "cell_type": "code",
   "execution_count": 95,
   "id": "4c7eb464",
   "metadata": {},
   "outputs": [
    {
     "data": {
      "text/plain": [
       "array([[ 4.9427405 ,  4.6928123 , 14.07402938],\n",
       "       [ 8.12539414,  5.4600881 , 10.37719013],\n",
       "       [ 5.6519083 ,  3.89059832,  9.75157976],\n",
       "       [ 7.6682729 ,  5.99606973, 10.00406182],\n",
       "       [ 6.60218324,  4.63748615, 15.70060533],\n",
       "       [ 5.9019943 ,  4.54449303, 13.21173954],\n",
       "       [ 6.0476602 ,  3.80612191, 15.13344425],\n",
       "       [ 6.15133121,  4.58400161, 13.71853377],\n",
       "       [ 7.17238522,  5.90556143, 15.57723362],\n",
       "       [ 6.01932093,  4.47596653, 17.78144582],\n",
       "       [ 5.48019546,  3.61668624, 14.02576459],\n",
       "       [ 5.35353454,  4.19009786, 10.5474609 ],\n",
       "       [ 5.34037482,  4.07246274, 13.39928237],\n",
       "       [ 5.30615674,  4.29011925, 17.40873685],\n",
       "       [ 5.51875591,  4.22165619, 21.83815181],\n",
       "       [ 5.52716971,  4.08297024, 14.83631527],\n",
       "       [ 4.81769793,  4.41029041, 19.30075009],\n",
       "       [ 5.06492733,  4.12870114, 15.72412584],\n",
       "       [ 5.88677345,  4.60776669, 17.18101865],\n",
       "       [ 5.75168779,  3.99169707, 15.35988368],\n",
       "       [ 5.05728183,  4.14455802,  7.00482981],\n",
       "       [ 5.72013961,  4.65355548,  5.23282225],\n",
       "       [ 5.50205646,  4.27514783, 16.18546432],\n",
       "       [ 6.39893103,  4.79212669, 15.4000077 ],\n",
       "       [ 5.61896296,  4.31366695,  8.1868896 ],\n",
       "       [ 4.96708196,  4.44553751, 11.8243872 ],\n",
       "       [ 6.95995626,  5.94747444, 12.55566672],\n",
       "       [ 5.24645166,  3.93490708,  6.55483546],\n",
       "       [ 5.19436036,  4.61337294, 19.0162069 ],\n",
       "       [ 5.12097829,  4.28446389, 15.46156491],\n",
       "       [ 5.73988887,  4.48131212,  8.33106489],\n",
       "       [ 5.39863842,  4.23722931, 15.37900271],\n",
       "       [ 5.62176625,  4.50831853, 18.30085379],\n",
       "       [ 5.8769665 ,  4.2634702 , 16.50014259],\n",
       "       [ 5.20472733,  3.89147098, 10.74376937],\n",
       "       [ 5.8777299 ,  4.71507251, 15.69914933],\n",
       "       [ 5.63680582,  3.97472109, 16.61196304],\n",
       "       [ 4.89945361,  4.02471666,  6.78456308],\n",
       "       [ 5.42706491,  4.26465279, 15.60123638],\n",
       "       [ 5.83523625,  4.35071179, 14.53610289],\n",
       "       [ 5.28023994,  4.67029526, 14.98293033],\n",
       "       [ 5.60917634,  4.49328248, 17.01131132],\n",
       "       [ 5.46202755,  4.09051   , 11.3222276 ],\n",
       "       [ 4.99959771,  3.66048654, 12.45332251],\n",
       "       [ 5.5899659 ,  4.3664802 , 13.79323314],\n",
       "       [ 5.75628807,  4.19227649, 17.1143027 ],\n",
       "       [ 5.10342724,  5.18837225, 22.01433498],\n",
       "       [ 5.31122608,  3.6937911 , 10.79727038],\n",
       "       [ 4.8644389 ,  4.22858556, 10.92437746],\n",
       "       [ 7.19255944,  6.17505433, 12.09707399]])"
      ]
     },
     "execution_count": 95,
     "metadata": {},
     "output_type": "execute_result"
    }
   ],
   "source": [
    "y_pred"
   ]
  },
  {
   "cell_type": "code",
   "execution_count": 96,
   "id": "37565dce",
   "metadata": {},
   "outputs": [
    {
     "data": {
      "text/plain": [
       "56.724038618649935"
      ]
     },
     "execution_count": 96,
     "metadata": {},
     "output_type": "execute_result"
    }
   ],
   "source": [
    "from sklearn.metrics import mean_squared_error\n",
    "mean_squared_error(y_test, y_pred)"
   ]
  },
  {
   "cell_type": "code",
   "execution_count": 97,
   "id": "385ec0f7",
   "metadata": {},
   "outputs": [
    {
     "data": {
      "text/plain": [
       "7.531536272145938"
      ]
     },
     "execution_count": 97,
     "metadata": {},
     "output_type": "execute_result"
    }
   ],
   "source": [
    "np.sqrt(mean_squared_error(y_test, y_pred))"
   ]
  },
  {
   "cell_type": "code",
   "execution_count": null,
   "id": "de9f3b3c",
   "metadata": {},
   "outputs": [],
   "source": []
  }
 ],
 "metadata": {
  "kernelspec": {
   "display_name": "Python 3 (ipykernel)",
   "language": "python",
   "name": "python3"
  },
  "language_info": {
   "codemirror_mode": {
    "name": "ipython",
    "version": 3
   },
   "file_extension": ".py",
   "mimetype": "text/x-python",
   "name": "python",
   "nbconvert_exporter": "python",
   "pygments_lexer": "ipython3",
   "version": "3.9.7"
  }
 },
 "nbformat": 4,
 "nbformat_minor": 5
}
