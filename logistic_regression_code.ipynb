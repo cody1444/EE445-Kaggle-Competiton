{
 "cells": [
  {
   "cell_type": "markdown",
   "id": "d165baf3",
   "metadata": {},
   "source": [
    "The problem is predicting updrs_1, updrs_2, updrs_3 and updrs_4 values at a given visit_month and potential 6, 12 and 24 month visits after the current visit_month.\n",
    "\n",
    "Build models using linear regression, svm, logistic regression, random forests\n",
    "\n",
    "for lr, group 4 percentiles"
   ]
  },
  {
   "cell_type": "code",
   "execution_count": 1,
   "id": "562a675b",
   "metadata": {},
   "outputs": [],
   "source": [
    "import pandas as pd\n",
    "import numpy as np\n",
    "\n",
    "train_clinical = '~/School/EE445/kaggle/train_clinical_data.csv'\n",
    "train_peptides = '~/School/EE445/kaggle/train_peptides.csv'\n",
    "train_supp_clinical = '~/School/EE445/kaggle/supplemental_clinical_data.csv'\n",
    "train_proteins = '~/School/EE445/kaggle/train_proteins.csv'"
   ]
  },
  {
   "cell_type": "code",
   "execution_count": 2,
   "id": "744fbf04",
   "metadata": {},
   "outputs": [],
   "source": [
    "# load data\n",
    "clinical_data = pd.read_csv(train_clinical)\n",
    "protein_data = pd.read_csv(train_proteins)\n",
    "peptide_data = pd.read_csv(train_peptides)\n",
    "supp_data = pd.read_csv(train_supp_clinical)"
   ]
  },
  {
   "cell_type": "markdown",
   "id": "a67e0d8c",
   "metadata": {},
   "source": [
    "### Initialize DF:"
   ]
  },
  {
   "cell_type": "code",
   "execution_count": 3,
   "id": "f84092f0",
   "metadata": {},
   "outputs": [],
   "source": [
    "def Get_ALL_Protein_Names(df_protein):\n",
    "    return df_protein['UniProt'].unique().tolist()\n",
    "\n",
    "def Get_Protein_Names(df_protein, visit_id):\n",
    "    return protein_data.loc[protein_data['visit_id'] == visit_id]['UniProt'].tolist()\n",
    "\n",
    "def Get_Patient_Info(df_clinical):\n",
    "    return df_clinical.columns[0:3].tolist() + [df_clinical.columns[-1]]\n",
    "\n",
    "def Get_Targets(df_clinical):\n",
    "    return df_clinical.columns[3:7].tolist()\n",
    "\n",
    "def Get_Protein_Visit_ID(df_protein):\n",
    "    return df_protein['visit_id'].unique().tolist()\n",
    "\n",
    "def Get_Clinical_Visit_ID(df_clinical):\n",
    "    return df_clinical['visit_id'].tolist()\n",
    "\n",
    "def Get_NPX(df_protein, visit_id):\n",
    "    return df_protein.loc[df_protein['visit_id'] == visit_id]['NPX'].tolist()\n",
    "\n",
    "def Create_Patient_Data_Dict(visit_id):\n",
    "    pat_id, vis_mon = visit_id.split('_')\n",
    "    return {'patient_id': int(pat_id), 'visit_month': int(vis_mon), 'visit_id': visit_id }\n",
    "\n",
    "def Create_Protein_Data_Dict(df_protein, NPX_data, visit_id):\n",
    "    return dict(zip(Get_Protein_Names(df_protein, visit_id), NPX_data)) | Create_Patient_Data_Dict(visit_id)\n",
    "    \n",
    "def Find_Visit_ID_Only_Protein_Measured(df_clinical, df_protein):\n",
    "    protein_list = Get_Protein_Visit_ID(df_protein)\n",
    "    clinical_list = Get_Clinical_Visit_ID(df_clinical)\n",
    "    only_protein = [visit_id for visit_id in protein_list if visit_id not in clinical_list]\n",
    "    return only_protein\n",
    "\n",
    "def Find_Visit_ID_Only_UPDRS_Measured(df_clinical, df_protein):\n",
    "    protein_list = Get_Protein_Visit_ID(df_protein)\n",
    "    clinical_list = Get_Clinical_Visit_ID(df_clinical)\n",
    "    only_UPDRS = [visit_id for visit_id in clinical_list if visit_id not in protein_list]\n",
    "    return only_UPDRS\n",
    "\n",
    "def Find_Visit_ID_Protein_and_UPDRS_Measured(df_clinical, df_protein):\n",
    "    return [visit_id for visit_id in Get_Clinical_Visit_ID(df_clinical) if visit_id in Get_Protein_Visit_ID(df_protein)]\n",
    "\n",
    "def Add_Rows_Only_Protein_Measured(df, only_prot_visit_id, df_protein):\n",
    "    for visit_id in only_prot_visit_id:\n",
    "        NPX_data = Get_NPX(df_protein, visit_id)\n",
    "        protein_info = pd.DataFrame(Create_Protein_Data_Dict(df_protein, NPX_data, visit_id), index=[0])\n",
    "        df = pd.concat([df, protein_info], axis = 0)\n",
    "    return df\n",
    "\n",
    "def Add_Protein_Data(df, df_clinical, df_protein):\n",
    "    prot_visit_id = Find_Visit_ID_Protein_and_UPDRS_Measured(df_clinical, df_protein)\n",
    "    for visit_id in prot_visit_id:\n",
    "        NPX_data = Get_NPX(df_protein, visit_id)\n",
    "        #protein_info = pd.DataFrame(Create_Protein_Data_Dict(df_protein, NPX_data, visit_id), index=[0])\n",
    "        df.loc[df.index[df['visit_id']==visit_id], Get_Protein_Names(df_protein, visit_id)] = NPX_data\n",
    "    return df\n",
    "\n",
    "def Sort_and_Index(df):\n",
    "    df = df.sort_values(by=['patient_id', 'visit_month'])\n",
    "    df = df.reset_index()\n",
    "    return df.drop(['index'], axis = 1)\n",
    "\n",
    "def Create_Combined_DataFrame(df_clinical, df_protein):\n",
    "    protein_cols = Get_ALL_Protein_Names(df_protein)\n",
    "    patient_cols = Get_Patient_Info(df_clinical)\n",
    "    target_cols = Get_Targets(df_clinical)\n",
    "    df_with_UniProt_cols = pd.DataFrame(columns = protein_cols, index=df_clinical.index)\n",
    "    clinical_left = df_clinical[patient_cols]\n",
    "    clinical_right = df_clinical[target_cols]\n",
    "    df = pd.concat([clinical_left, df_with_UniProt_cols, clinical_right], axis = 1)\n",
    "    only_p = Find_Visit_ID_Only_Protein_Measured(clinical_data, protein_data)\n",
    "    df = Add_Rows_Only_Protein_Measured(df, only_p, protein_data)\n",
    "    df = Sort_and_Index(df)\n",
    "    return Add_Protein_Data(df, df_clinical, df_protein)"
   ]
  },
  {
   "cell_type": "code",
   "execution_count": 4,
   "id": "b13867af",
   "metadata": {},
   "outputs": [],
   "source": [
    "df = Create_Combined_DataFrame(clinical_data, protein_data)"
   ]
  },
  {
   "cell_type": "code",
   "execution_count": 5,
   "id": "cebd136f",
   "metadata": {},
   "outputs": [
    {
     "data": {
      "text/html": [
       "<div>\n",
       "<style scoped>\n",
       "    .dataframe tbody tr th:only-of-type {\n",
       "        vertical-align: middle;\n",
       "    }\n",
       "\n",
       "    .dataframe tbody tr th {\n",
       "        vertical-align: top;\n",
       "    }\n",
       "\n",
       "    .dataframe thead th {\n",
       "        text-align: right;\n",
       "    }\n",
       "</style>\n",
       "<table border=\"1\" class=\"dataframe\">\n",
       "  <thead>\n",
       "    <tr style=\"text-align: right;\">\n",
       "      <th></th>\n",
       "      <th>visit_id</th>\n",
       "      <th>patient_id</th>\n",
       "      <th>visit_month</th>\n",
       "      <th>upd23b_clinical_state_on_medication</th>\n",
       "      <th>O00391</th>\n",
       "      <th>O00533</th>\n",
       "      <th>O00584</th>\n",
       "      <th>O14498</th>\n",
       "      <th>O14773</th>\n",
       "      <th>O14791</th>\n",
       "      <th>...</th>\n",
       "      <th>P32754</th>\n",
       "      <th>P60174</th>\n",
       "      <th>Q13449</th>\n",
       "      <th>Q99683</th>\n",
       "      <th>Q99829</th>\n",
       "      <th>Q9UKV8</th>\n",
       "      <th>updrs_1</th>\n",
       "      <th>updrs_2</th>\n",
       "      <th>updrs_3</th>\n",
       "      <th>updrs_4</th>\n",
       "    </tr>\n",
       "  </thead>\n",
       "  <tbody>\n",
       "    <tr>\n",
       "      <th>0</th>\n",
       "      <td>55_0</td>\n",
       "      <td>55</td>\n",
       "      <td>0</td>\n",
       "      <td>NaN</td>\n",
       "      <td>11254.3</td>\n",
       "      <td>732430.0</td>\n",
       "      <td>39585.8</td>\n",
       "      <td>41526.9</td>\n",
       "      <td>31238.0</td>\n",
       "      <td>4202.71</td>\n",
       "      <td>...</td>\n",
       "      <td>NaN</td>\n",
       "      <td>NaN</td>\n",
       "      <td>NaN</td>\n",
       "      <td>NaN</td>\n",
       "      <td>NaN</td>\n",
       "      <td>NaN</td>\n",
       "      <td>10.0</td>\n",
       "      <td>6.0</td>\n",
       "      <td>15.0</td>\n",
       "      <td>NaN</td>\n",
       "    </tr>\n",
       "    <tr>\n",
       "      <th>1</th>\n",
       "      <td>55_3</td>\n",
       "      <td>55</td>\n",
       "      <td>3</td>\n",
       "      <td>NaN</td>\n",
       "      <td>NaN</td>\n",
       "      <td>NaN</td>\n",
       "      <td>NaN</td>\n",
       "      <td>NaN</td>\n",
       "      <td>NaN</td>\n",
       "      <td>NaN</td>\n",
       "      <td>...</td>\n",
       "      <td>NaN</td>\n",
       "      <td>NaN</td>\n",
       "      <td>NaN</td>\n",
       "      <td>NaN</td>\n",
       "      <td>NaN</td>\n",
       "      <td>NaN</td>\n",
       "      <td>10.0</td>\n",
       "      <td>7.0</td>\n",
       "      <td>25.0</td>\n",
       "      <td>NaN</td>\n",
       "    </tr>\n",
       "    <tr>\n",
       "      <th>2</th>\n",
       "      <td>55_6</td>\n",
       "      <td>55</td>\n",
       "      <td>6</td>\n",
       "      <td>NaN</td>\n",
       "      <td>13163.6</td>\n",
       "      <td>630465.0</td>\n",
       "      <td>35220.8</td>\n",
       "      <td>41295.0</td>\n",
       "      <td>26219.9</td>\n",
       "      <td>4416.42</td>\n",
       "      <td>...</td>\n",
       "      <td>NaN</td>\n",
       "      <td>NaN</td>\n",
       "      <td>49927.5</td>\n",
       "      <td>121417.0</td>\n",
       "      <td>NaN</td>\n",
       "      <td>NaN</td>\n",
       "      <td>8.0</td>\n",
       "      <td>10.0</td>\n",
       "      <td>34.0</td>\n",
       "      <td>NaN</td>\n",
       "    </tr>\n",
       "    <tr>\n",
       "      <th>3</th>\n",
       "      <td>55_9</td>\n",
       "      <td>55</td>\n",
       "      <td>9</td>\n",
       "      <td>On</td>\n",
       "      <td>NaN</td>\n",
       "      <td>NaN</td>\n",
       "      <td>NaN</td>\n",
       "      <td>NaN</td>\n",
       "      <td>NaN</td>\n",
       "      <td>NaN</td>\n",
       "      <td>...</td>\n",
       "      <td>NaN</td>\n",
       "      <td>NaN</td>\n",
       "      <td>NaN</td>\n",
       "      <td>NaN</td>\n",
       "      <td>NaN</td>\n",
       "      <td>NaN</td>\n",
       "      <td>8.0</td>\n",
       "      <td>9.0</td>\n",
       "      <td>30.0</td>\n",
       "      <td>0.0</td>\n",
       "    </tr>\n",
       "    <tr>\n",
       "      <th>4</th>\n",
       "      <td>55_12</td>\n",
       "      <td>55</td>\n",
       "      <td>12</td>\n",
       "      <td>On</td>\n",
       "      <td>15257.6</td>\n",
       "      <td>815083.0</td>\n",
       "      <td>41650.9</td>\n",
       "      <td>39763.3</td>\n",
       "      <td>30703.6</td>\n",
       "      <td>4343.60</td>\n",
       "      <td>...</td>\n",
       "      <td>NaN</td>\n",
       "      <td>20088.2</td>\n",
       "      <td>45519.2</td>\n",
       "      <td>121322.0</td>\n",
       "      <td>25589.4</td>\n",
       "      <td>65762.6</td>\n",
       "      <td>10.0</td>\n",
       "      <td>10.0</td>\n",
       "      <td>41.0</td>\n",
       "      <td>0.0</td>\n",
       "    </tr>\n",
       "    <tr>\n",
       "      <th>...</th>\n",
       "      <td>...</td>\n",
       "      <td>...</td>\n",
       "      <td>...</td>\n",
       "      <td>...</td>\n",
       "      <td>...</td>\n",
       "      <td>...</td>\n",
       "      <td>...</td>\n",
       "      <td>...</td>\n",
       "      <td>...</td>\n",
       "      <td>...</td>\n",
       "      <td>...</td>\n",
       "      <td>...</td>\n",
       "      <td>...</td>\n",
       "      <td>...</td>\n",
       "      <td>...</td>\n",
       "      <td>...</td>\n",
       "      <td>...</td>\n",
       "      <td>...</td>\n",
       "      <td>...</td>\n",
       "      <td>...</td>\n",
       "      <td>...</td>\n",
       "    </tr>\n",
       "    <tr>\n",
       "      <th>2655</th>\n",
       "      <td>65043_48</td>\n",
       "      <td>65043</td>\n",
       "      <td>48</td>\n",
       "      <td>Off</td>\n",
       "      <td>10589.6</td>\n",
       "      <td>902434.0</td>\n",
       "      <td>44890.8</td>\n",
       "      <td>38771.5</td>\n",
       "      <td>20188.3</td>\n",
       "      <td>3137.07</td>\n",
       "      <td>...</td>\n",
       "      <td>57323.9</td>\n",
       "      <td>NaN</td>\n",
       "      <td>NaN</td>\n",
       "      <td>96827.3</td>\n",
       "      <td>14019.1</td>\n",
       "      <td>39046.7</td>\n",
       "      <td>7.0</td>\n",
       "      <td>6.0</td>\n",
       "      <td>13.0</td>\n",
       "      <td>0.0</td>\n",
       "    </tr>\n",
       "    <tr>\n",
       "      <th>2656</th>\n",
       "      <td>65043_54</td>\n",
       "      <td>65043</td>\n",
       "      <td>54</td>\n",
       "      <td>Off</td>\n",
       "      <td>NaN</td>\n",
       "      <td>NaN</td>\n",
       "      <td>NaN</td>\n",
       "      <td>NaN</td>\n",
       "      <td>NaN</td>\n",
       "      <td>NaN</td>\n",
       "      <td>...</td>\n",
       "      <td>NaN</td>\n",
       "      <td>NaN</td>\n",
       "      <td>NaN</td>\n",
       "      <td>NaN</td>\n",
       "      <td>NaN</td>\n",
       "      <td>NaN</td>\n",
       "      <td>4.0</td>\n",
       "      <td>8.0</td>\n",
       "      <td>11.0</td>\n",
       "      <td>1.0</td>\n",
       "    </tr>\n",
       "    <tr>\n",
       "      <th>2657</th>\n",
       "      <td>65043_60</td>\n",
       "      <td>65043</td>\n",
       "      <td>60</td>\n",
       "      <td>Off</td>\n",
       "      <td>NaN</td>\n",
       "      <td>NaN</td>\n",
       "      <td>NaN</td>\n",
       "      <td>NaN</td>\n",
       "      <td>NaN</td>\n",
       "      <td>NaN</td>\n",
       "      <td>...</td>\n",
       "      <td>NaN</td>\n",
       "      <td>NaN</td>\n",
       "      <td>NaN</td>\n",
       "      <td>NaN</td>\n",
       "      <td>NaN</td>\n",
       "      <td>NaN</td>\n",
       "      <td>6.0</td>\n",
       "      <td>6.0</td>\n",
       "      <td>16.0</td>\n",
       "      <td>1.0</td>\n",
       "    </tr>\n",
       "    <tr>\n",
       "      <th>2658</th>\n",
       "      <td>65043_72</td>\n",
       "      <td>65043</td>\n",
       "      <td>72</td>\n",
       "      <td>Off</td>\n",
       "      <td>NaN</td>\n",
       "      <td>NaN</td>\n",
       "      <td>NaN</td>\n",
       "      <td>NaN</td>\n",
       "      <td>NaN</td>\n",
       "      <td>NaN</td>\n",
       "      <td>...</td>\n",
       "      <td>NaN</td>\n",
       "      <td>NaN</td>\n",
       "      <td>NaN</td>\n",
       "      <td>NaN</td>\n",
       "      <td>NaN</td>\n",
       "      <td>NaN</td>\n",
       "      <td>3.0</td>\n",
       "      <td>9.0</td>\n",
       "      <td>14.0</td>\n",
       "      <td>1.0</td>\n",
       "    </tr>\n",
       "    <tr>\n",
       "      <th>2659</th>\n",
       "      <td>65043_84</td>\n",
       "      <td>65043</td>\n",
       "      <td>84</td>\n",
       "      <td>Off</td>\n",
       "      <td>NaN</td>\n",
       "      <td>NaN</td>\n",
       "      <td>NaN</td>\n",
       "      <td>NaN</td>\n",
       "      <td>NaN</td>\n",
       "      <td>NaN</td>\n",
       "      <td>...</td>\n",
       "      <td>NaN</td>\n",
       "      <td>NaN</td>\n",
       "      <td>NaN</td>\n",
       "      <td>NaN</td>\n",
       "      <td>NaN</td>\n",
       "      <td>NaN</td>\n",
       "      <td>7.0</td>\n",
       "      <td>9.0</td>\n",
       "      <td>20.0</td>\n",
       "      <td>3.0</td>\n",
       "    </tr>\n",
       "  </tbody>\n",
       "</table>\n",
       "<p>2660 rows × 235 columns</p>\n",
       "</div>"
      ],
      "text/plain": [
       "      visit_id  patient_id  visit_month upd23b_clinical_state_on_medication  \\\n",
       "0         55_0          55            0                                 NaN   \n",
       "1         55_3          55            3                                 NaN   \n",
       "2         55_6          55            6                                 NaN   \n",
       "3         55_9          55            9                                  On   \n",
       "4        55_12          55           12                                  On   \n",
       "...        ...         ...          ...                                 ...   \n",
       "2655  65043_48       65043           48                                 Off   \n",
       "2656  65043_54       65043           54                                 Off   \n",
       "2657  65043_60       65043           60                                 Off   \n",
       "2658  65043_72       65043           72                                 Off   \n",
       "2659  65043_84       65043           84                                 Off   \n",
       "\n",
       "       O00391    O00533   O00584   O14498   O14773   O14791  ...   P32754  \\\n",
       "0     11254.3  732430.0  39585.8  41526.9  31238.0  4202.71  ...      NaN   \n",
       "1         NaN       NaN      NaN      NaN      NaN      NaN  ...      NaN   \n",
       "2     13163.6  630465.0  35220.8  41295.0  26219.9  4416.42  ...      NaN   \n",
       "3         NaN       NaN      NaN      NaN      NaN      NaN  ...      NaN   \n",
       "4     15257.6  815083.0  41650.9  39763.3  30703.6  4343.60  ...      NaN   \n",
       "...       ...       ...      ...      ...      ...      ...  ...      ...   \n",
       "2655  10589.6  902434.0  44890.8  38771.5  20188.3  3137.07  ...  57323.9   \n",
       "2656      NaN       NaN      NaN      NaN      NaN      NaN  ...      NaN   \n",
       "2657      NaN       NaN      NaN      NaN      NaN      NaN  ...      NaN   \n",
       "2658      NaN       NaN      NaN      NaN      NaN      NaN  ...      NaN   \n",
       "2659      NaN       NaN      NaN      NaN      NaN      NaN  ...      NaN   \n",
       "\n",
       "       P60174   Q13449    Q99683   Q99829   Q9UKV8  updrs_1  updrs_2  updrs_3  \\\n",
       "0         NaN      NaN       NaN      NaN      NaN     10.0      6.0     15.0   \n",
       "1         NaN      NaN       NaN      NaN      NaN     10.0      7.0     25.0   \n",
       "2         NaN  49927.5  121417.0      NaN      NaN      8.0     10.0     34.0   \n",
       "3         NaN      NaN       NaN      NaN      NaN      8.0      9.0     30.0   \n",
       "4     20088.2  45519.2  121322.0  25589.4  65762.6     10.0     10.0     41.0   \n",
       "...       ...      ...       ...      ...      ...      ...      ...      ...   \n",
       "2655      NaN      NaN   96827.3  14019.1  39046.7      7.0      6.0     13.0   \n",
       "2656      NaN      NaN       NaN      NaN      NaN      4.0      8.0     11.0   \n",
       "2657      NaN      NaN       NaN      NaN      NaN      6.0      6.0     16.0   \n",
       "2658      NaN      NaN       NaN      NaN      NaN      3.0      9.0     14.0   \n",
       "2659      NaN      NaN       NaN      NaN      NaN      7.0      9.0     20.0   \n",
       "\n",
       "      updrs_4  \n",
       "0         NaN  \n",
       "1         NaN  \n",
       "2         NaN  \n",
       "3         0.0  \n",
       "4         0.0  \n",
       "...       ...  \n",
       "2655      0.0  \n",
       "2656      1.0  \n",
       "2657      1.0  \n",
       "2658      1.0  \n",
       "2659      3.0  \n",
       "\n",
       "[2660 rows x 235 columns]"
      ]
     },
     "execution_count": 5,
     "metadata": {},
     "output_type": "execute_result"
    }
   ],
   "source": [
    "df"
   ]
  },
  {
   "cell_type": "code",
   "execution_count": 6,
   "id": "93f02a16",
   "metadata": {},
   "outputs": [
    {
     "data": {
      "text/html": [
       "<div>\n",
       "<style scoped>\n",
       "    .dataframe tbody tr th:only-of-type {\n",
       "        vertical-align: middle;\n",
       "    }\n",
       "\n",
       "    .dataframe tbody tr th {\n",
       "        vertical-align: top;\n",
       "    }\n",
       "\n",
       "    .dataframe thead th {\n",
       "        text-align: right;\n",
       "    }\n",
       "</style>\n",
       "<table border=\"1\" class=\"dataframe\">\n",
       "  <thead>\n",
       "    <tr style=\"text-align: right;\">\n",
       "      <th></th>\n",
       "      <th>patient_id</th>\n",
       "      <th>visit_month</th>\n",
       "      <th>O00391</th>\n",
       "      <th>O00533</th>\n",
       "      <th>O00584</th>\n",
       "      <th>O14498</th>\n",
       "      <th>O14773</th>\n",
       "      <th>O14791</th>\n",
       "      <th>O15240</th>\n",
       "      <th>O15394</th>\n",
       "      <th>...</th>\n",
       "      <th>P32754</th>\n",
       "      <th>P60174</th>\n",
       "      <th>Q13449</th>\n",
       "      <th>Q99683</th>\n",
       "      <th>Q99829</th>\n",
       "      <th>Q9UKV8</th>\n",
       "      <th>updrs_1</th>\n",
       "      <th>updrs_2</th>\n",
       "      <th>updrs_3</th>\n",
       "      <th>updrs_4</th>\n",
       "    </tr>\n",
       "  </thead>\n",
       "  <tbody>\n",
       "    <tr>\n",
       "      <th>count</th>\n",
       "      <td>2660.000000</td>\n",
       "      <td>2660.000000</td>\n",
       "      <td>764.000000</td>\n",
       "      <td>1.112000e+03</td>\n",
       "      <td>1100.000000</td>\n",
       "      <td>1032.000000</td>\n",
       "      <td>1047.000000</td>\n",
       "      <td>942.000000</td>\n",
       "      <td>1113.000000</td>\n",
       "      <td>1050.000000</td>\n",
       "      <td>...</td>\n",
       "      <td>778.000000</td>\n",
       "      <td>729.000000</td>\n",
       "      <td>909.000000</td>\n",
       "      <td>933.000000</td>\n",
       "      <td>489.000000</td>\n",
       "      <td>907.000000</td>\n",
       "      <td>2614.000000</td>\n",
       "      <td>2613.00000</td>\n",
       "      <td>2590.000000</td>\n",
       "      <td>1577.000000</td>\n",
       "    </tr>\n",
       "    <tr>\n",
       "      <th>mean</th>\n",
       "      <td>32625.830827</td>\n",
       "      <td>30.839098</td>\n",
       "      <td>11641.264435</td>\n",
       "      <td>5.111649e+05</td>\n",
       "      <td>26505.529157</td>\n",
       "      <td>27305.934884</td>\n",
       "      <td>17688.295406</td>\n",
       "      <td>3004.990691</td>\n",
       "      <td>126151.780054</td>\n",
       "      <td>50773.474638</td>\n",
       "      <td>...</td>\n",
       "      <td>73994.153085</td>\n",
       "      <td>15290.254403</td>\n",
       "      <td>28216.340372</td>\n",
       "      <td>102498.454662</td>\n",
       "      <td>15393.157280</td>\n",
       "      <td>69924.939658</td>\n",
       "      <td>7.110559</td>\n",
       "      <td>6.74359</td>\n",
       "      <td>19.421236</td>\n",
       "      <td>1.861763</td>\n",
       "    </tr>\n",
       "    <tr>\n",
       "      <th>std</th>\n",
       "      <td>18538.098639</td>\n",
       "      <td>25.226370</td>\n",
       "      <td>2817.003530</td>\n",
       "      <td>2.357357e+05</td>\n",
       "      <td>10705.152540</td>\n",
       "      <td>8446.187506</td>\n",
       "      <td>7166.325369</td>\n",
       "      <td>1142.159575</td>\n",
       "      <td>72748.393517</td>\n",
       "      <td>21382.028764</td>\n",
       "      <td>...</td>\n",
       "      <td>31142.479712</td>\n",
       "      <td>5378.119619</td>\n",
       "      <td>13279.201144</td>\n",
       "      <td>21270.573763</td>\n",
       "      <td>5805.729783</td>\n",
       "      <td>25943.573085</td>\n",
       "      <td>5.525955</td>\n",
       "      <td>6.32323</td>\n",
       "      <td>15.000289</td>\n",
       "      <td>3.022112</td>\n",
       "    </tr>\n",
       "    <tr>\n",
       "      <th>min</th>\n",
       "      <td>55.000000</td>\n",
       "      <td>0.000000</td>\n",
       "      <td>873.778000</td>\n",
       "      <td>5.971820e+04</td>\n",
       "      <td>591.103000</td>\n",
       "      <td>8945.340000</td>\n",
       "      <td>2811.120000</td>\n",
       "      <td>336.517000</td>\n",
       "      <td>10717.400000</td>\n",
       "      <td>5806.840000</td>\n",
       "      <td>...</td>\n",
       "      <td>12718.200000</td>\n",
       "      <td>2710.320000</td>\n",
       "      <td>223.218000</td>\n",
       "      <td>47187.900000</td>\n",
       "      <td>3364.640000</td>\n",
       "      <td>3439.810000</td>\n",
       "      <td>0.000000</td>\n",
       "      <td>0.00000</td>\n",
       "      <td>0.000000</td>\n",
       "      <td>0.000000</td>\n",
       "    </tr>\n",
       "    <tr>\n",
       "      <th>25%</th>\n",
       "      <td>16572.000000</td>\n",
       "      <td>9.000000</td>\n",
       "      <td>9736.857500</td>\n",
       "      <td>3.490590e+05</td>\n",
       "      <td>19941.075000</td>\n",
       "      <td>21123.650000</td>\n",
       "      <td>12920.050000</td>\n",
       "      <td>2189.087500</td>\n",
       "      <td>70560.600000</td>\n",
       "      <td>37008.975000</td>\n",
       "      <td>...</td>\n",
       "      <td>53235.800000</td>\n",
       "      <td>11700.900000</td>\n",
       "      <td>18613.500000</td>\n",
       "      <td>88157.000000</td>\n",
       "      <td>11489.900000</td>\n",
       "      <td>54132.600000</td>\n",
       "      <td>3.000000</td>\n",
       "      <td>1.00000</td>\n",
       "      <td>6.000000</td>\n",
       "      <td>0.000000</td>\n",
       "    </tr>\n",
       "    <tr>\n",
       "      <th>50%</th>\n",
       "      <td>29313.000000</td>\n",
       "      <td>24.000000</td>\n",
       "      <td>11546.400000</td>\n",
       "      <td>4.834425e+05</td>\n",
       "      <td>26529.700000</td>\n",
       "      <td>26624.000000</td>\n",
       "      <td>17399.600000</td>\n",
       "      <td>2865.460000</td>\n",
       "      <td>116900.000000</td>\n",
       "      <td>50375.800000</td>\n",
       "      <td>...</td>\n",
       "      <td>68369.500000</td>\n",
       "      <td>14906.200000</td>\n",
       "      <td>25872.100000</td>\n",
       "      <td>100530.000000</td>\n",
       "      <td>14420.100000</td>\n",
       "      <td>67571.700000</td>\n",
       "      <td>6.000000</td>\n",
       "      <td>5.00000</td>\n",
       "      <td>19.000000</td>\n",
       "      <td>0.000000</td>\n",
       "    </tr>\n",
       "    <tr>\n",
       "      <th>75%</th>\n",
       "      <td>50149.000000</td>\n",
       "      <td>48.000000</td>\n",
       "      <td>13383.025000</td>\n",
       "      <td>6.485572e+05</td>\n",
       "      <td>33222.800000</td>\n",
       "      <td>32459.275000</td>\n",
       "      <td>22077.050000</td>\n",
       "      <td>3593.147500</td>\n",
       "      <td>164947.000000</td>\n",
       "      <td>63446.700000</td>\n",
       "      <td>...</td>\n",
       "      <td>88072.825000</td>\n",
       "      <td>18229.000000</td>\n",
       "      <td>35692.200000</td>\n",
       "      <td>114190.000000</td>\n",
       "      <td>18626.900000</td>\n",
       "      <td>83879.300000</td>\n",
       "      <td>10.000000</td>\n",
       "      <td>10.00000</td>\n",
       "      <td>29.000000</td>\n",
       "      <td>3.000000</td>\n",
       "    </tr>\n",
       "    <tr>\n",
       "      <th>max</th>\n",
       "      <td>65043.000000</td>\n",
       "      <td>108.000000</td>\n",
       "      <td>21361.800000</td>\n",
       "      <td>1.806980e+06</td>\n",
       "      <td>66252.400000</td>\n",
       "      <td>65347.900000</td>\n",
       "      <td>49695.600000</td>\n",
       "      <td>9352.640000</td>\n",
       "      <td>538862.000000</td>\n",
       "      <td>137369.000000</td>\n",
       "      <td>...</td>\n",
       "      <td>202714.000000</td>\n",
       "      <td>33801.800000</td>\n",
       "      <td>94180.500000</td>\n",
       "      <td>196434.000000</td>\n",
       "      <td>37061.700000</td>\n",
       "      <td>226139.000000</td>\n",
       "      <td>33.000000</td>\n",
       "      <td>40.00000</td>\n",
       "      <td>86.000000</td>\n",
       "      <td>20.000000</td>\n",
       "    </tr>\n",
       "  </tbody>\n",
       "</table>\n",
       "<p>8 rows × 233 columns</p>\n",
       "</div>"
      ],
      "text/plain": [
       "         patient_id  visit_month        O00391        O00533        O00584  \\\n",
       "count   2660.000000  2660.000000    764.000000  1.112000e+03   1100.000000   \n",
       "mean   32625.830827    30.839098  11641.264435  5.111649e+05  26505.529157   \n",
       "std    18538.098639    25.226370   2817.003530  2.357357e+05  10705.152540   \n",
       "min       55.000000     0.000000    873.778000  5.971820e+04    591.103000   \n",
       "25%    16572.000000     9.000000   9736.857500  3.490590e+05  19941.075000   \n",
       "50%    29313.000000    24.000000  11546.400000  4.834425e+05  26529.700000   \n",
       "75%    50149.000000    48.000000  13383.025000  6.485572e+05  33222.800000   \n",
       "max    65043.000000   108.000000  21361.800000  1.806980e+06  66252.400000   \n",
       "\n",
       "             O14498        O14773       O14791         O15240         O15394  \\\n",
       "count   1032.000000   1047.000000   942.000000    1113.000000    1050.000000   \n",
       "mean   27305.934884  17688.295406  3004.990691  126151.780054   50773.474638   \n",
       "std     8446.187506   7166.325369  1142.159575   72748.393517   21382.028764   \n",
       "min     8945.340000   2811.120000   336.517000   10717.400000    5806.840000   \n",
       "25%    21123.650000  12920.050000  2189.087500   70560.600000   37008.975000   \n",
       "50%    26624.000000  17399.600000  2865.460000  116900.000000   50375.800000   \n",
       "75%    32459.275000  22077.050000  3593.147500  164947.000000   63446.700000   \n",
       "max    65347.900000  49695.600000  9352.640000  538862.000000  137369.000000   \n",
       "\n",
       "       ...         P32754        P60174        Q13449         Q99683  \\\n",
       "count  ...     778.000000    729.000000    909.000000     933.000000   \n",
       "mean   ...   73994.153085  15290.254403  28216.340372  102498.454662   \n",
       "std    ...   31142.479712   5378.119619  13279.201144   21270.573763   \n",
       "min    ...   12718.200000   2710.320000    223.218000   47187.900000   \n",
       "25%    ...   53235.800000  11700.900000  18613.500000   88157.000000   \n",
       "50%    ...   68369.500000  14906.200000  25872.100000  100530.000000   \n",
       "75%    ...   88072.825000  18229.000000  35692.200000  114190.000000   \n",
       "max    ...  202714.000000  33801.800000  94180.500000  196434.000000   \n",
       "\n",
       "             Q99829         Q9UKV8      updrs_1     updrs_2      updrs_3  \\\n",
       "count    489.000000     907.000000  2614.000000  2613.00000  2590.000000   \n",
       "mean   15393.157280   69924.939658     7.110559     6.74359    19.421236   \n",
       "std     5805.729783   25943.573085     5.525955     6.32323    15.000289   \n",
       "min     3364.640000    3439.810000     0.000000     0.00000     0.000000   \n",
       "25%    11489.900000   54132.600000     3.000000     1.00000     6.000000   \n",
       "50%    14420.100000   67571.700000     6.000000     5.00000    19.000000   \n",
       "75%    18626.900000   83879.300000    10.000000    10.00000    29.000000   \n",
       "max    37061.700000  226139.000000    33.000000    40.00000    86.000000   \n",
       "\n",
       "           updrs_4  \n",
       "count  1577.000000  \n",
       "mean      1.861763  \n",
       "std       3.022112  \n",
       "min       0.000000  \n",
       "25%       0.000000  \n",
       "50%       0.000000  \n",
       "75%       3.000000  \n",
       "max      20.000000  \n",
       "\n",
       "[8 rows x 233 columns]"
      ]
     },
     "execution_count": 6,
     "metadata": {},
     "output_type": "execute_result"
    }
   ],
   "source": [
    "df.describe()"
   ]
  },
  {
   "cell_type": "markdown",
   "id": "b3d5c520",
   "metadata": {},
   "source": [
    "### Validating The DF:"
   ]
  },
  {
   "cell_type": "code",
   "execution_count": 7,
   "id": "a01392c9",
   "metadata": {},
   "outputs": [
    {
     "name": "stdout",
     "output_type": "stream",
     "text": [
      "Percentage Correct: 1.0\n"
     ]
    }
   ],
   "source": [
    "# Testing n random UniProt and NPX from protein_data match DF\n",
    "n = 1000\n",
    "results = []\n",
    "for i in range(n):\n",
    "    sample = protein_data.sample()\n",
    "    p_id = sample['patient_id'].values[0]\n",
    "    vm = sample['visit_month'].values[0]\n",
    "    up = sample['UniProt'].values[0]\n",
    "    npx = sample['NPX'].values[0]\n",
    "    #print('Check #:',i)\n",
    "    #print('Patient ID:', p_id)\n",
    "    #print('Visit Month:', vm)\n",
    "    #print('UniProt:', up)\n",
    "    #print('NPX from protein_data:', npx)\n",
    "    result = float(df[up].loc[(df['patient_id'] == p_id)&(df['visit_month'] == vm)].values)\n",
    "    #print('NPX from df:', result)\n",
    "    #print('Pass?', result == npx)\n",
    "    #print('\\n')\n",
    "    if result == npx:\n",
    "        results.append(True)\n",
    "print('Percentage Correct:', sum(results)/n)\n",
    "    "
   ]
  },
  {
   "cell_type": "code",
   "execution_count": 8,
   "id": "9b1d6b51",
   "metadata": {},
   "outputs": [
    {
     "name": "stdout",
     "output_type": "stream",
     "text": [
      "percentage correct: 1.0\n"
     ]
    }
   ],
   "source": [
    "protein_cols = Get_ALL_Protein_Names(protein_data)\n",
    "target_cols = Get_Targets(clinical_data)\n",
    "\n",
    "# Testing n random samples from DF match protein_data\n",
    "n = 1000\n",
    "results = []\n",
    "for i in range(n):\n",
    "    sample = df.sample()\n",
    "    valid_protein_columns = sample[protein_cols].dropna(axis=1)\n",
    "    temp_df = pd.concat([pd.DataFrame(valid_protein_columns.columns, columns=['UniProt']),\n",
    "                         pd.DataFrame(valid_protein_columns.values.transpose(), columns=['NPX'])], axis=1)\n",
    "    prot_df = protein_data[['UniProt', 'NPX']].loc[protein_data['visit_id'] == sample['visit_id'].values[0]]\n",
    "    prot_df = prot_df.sort_values('UniProt')\n",
    "    temp_df = temp_df.sort_values('UniProt')\n",
    "    prot_df = prot_df.reset_index(drop=True)\n",
    "    temp_df = temp_df.reset_index(drop=True)\n",
    "    truth_df = temp_df.sort_values('UniProt') == prot_df.sort_values('UniProt')\n",
    "    if truth_df.sum().sum() == truth_df.shape[0]*2:\n",
    "        results.append(True)\n",
    "print('percentage correct:', sum(results)/n)"
   ]
  },
  {
   "cell_type": "code",
   "execution_count": 9,
   "id": "f94f9371",
   "metadata": {},
   "outputs": [
    {
     "name": "stdout",
     "output_type": "stream",
     "text": [
      "Visit ID: 23175_3\n",
      "Protein_IDs match: True\n",
      "NPX match: True\n",
      "UPDRS are NaN: True\n",
      "\n",
      "\n",
      "Visit ID: 57468_3\n",
      "Protein_IDs match: True\n",
      "NPX match: True\n",
      "UPDRS are NaN: True\n",
      "\n",
      "\n",
      "Visit ID: 2660_6\n",
      "Protein_IDs match: True\n",
      "NPX match: True\n",
      "UPDRS are NaN: True\n",
      "\n",
      "\n",
      "Visit ID: 5027_6\n",
      "Protein_IDs match: True\n",
      "NPX match: True\n",
      "UPDRS are NaN: True\n",
      "\n",
      "\n",
      "Visit ID: 5036_6\n",
      "Protein_IDs match: True\n",
      "NPX match: True\n",
      "UPDRS are NaN: True\n",
      "\n",
      "\n",
      "Visit ID: 5178_6\n",
      "Protein_IDs match: True\n",
      "NPX match: True\n",
      "UPDRS are NaN: True\n",
      "\n",
      "\n",
      "Visit ID: 7117_6\n",
      "Protein_IDs match: True\n",
      "NPX match: True\n",
      "UPDRS are NaN: True\n",
      "\n",
      "\n",
      "Visit ID: 7151_6\n",
      "Protein_IDs match: True\n",
      "NPX match: True\n",
      "UPDRS are NaN: True\n",
      "\n",
      "\n",
      "Visit ID: 11686_6\n",
      "Protein_IDs match: True\n",
      "NPX match: True\n",
      "UPDRS are NaN: True\n",
      "\n",
      "\n",
      "Visit ID: 12636_6\n",
      "Protein_IDs match: True\n",
      "NPX match: True\n",
      "UPDRS are NaN: True\n",
      "\n",
      "\n",
      "Visit ID: 13968_6\n",
      "Protein_IDs match: True\n",
      "NPX match: True\n",
      "UPDRS are NaN: True\n",
      "\n",
      "\n",
      "Visit ID: 14035_6\n",
      "Protein_IDs match: True\n",
      "NPX match: True\n",
      "UPDRS are NaN: True\n",
      "\n",
      "\n",
      "Visit ID: 14450_6\n",
      "Protein_IDs match: True\n",
      "NPX match: True\n",
      "UPDRS are NaN: True\n",
      "\n",
      "\n",
      "Visit ID: 16347_6\n",
      "Protein_IDs match: True\n",
      "NPX match: True\n",
      "UPDRS are NaN: True\n",
      "\n",
      "\n",
      "Visit ID: 20212_6\n",
      "Protein_IDs match: True\n",
      "NPX match: True\n",
      "UPDRS are NaN: True\n",
      "\n",
      "\n",
      "Visit ID: 20216_6\n",
      "Protein_IDs match: True\n",
      "NPX match: True\n",
      "UPDRS are NaN: True\n",
      "\n",
      "\n",
      "Visit ID: 20581_6\n",
      "Protein_IDs match: True\n",
      "NPX match: True\n",
      "UPDRS are NaN: True\n",
      "\n",
      "\n",
      "Visit ID: 20791_6\n",
      "Protein_IDs match: True\n",
      "NPX match: True\n",
      "UPDRS are NaN: True\n",
      "\n",
      "\n",
      "Visit ID: 23175_6\n",
      "Protein_IDs match: True\n",
      "NPX match: True\n",
      "UPDRS are NaN: True\n",
      "\n",
      "\n",
      "Visit ID: 23192_6\n",
      "Protein_IDs match: True\n",
      "NPX match: True\n",
      "UPDRS are NaN: True\n",
      "\n",
      "\n",
      "Visit ID: 24278_6\n",
      "Protein_IDs match: True\n",
      "NPX match: True\n",
      "UPDRS are NaN: True\n",
      "\n",
      "\n",
      "Visit ID: 24818_6\n",
      "Protein_IDs match: True\n",
      "NPX match: True\n",
      "UPDRS are NaN: True\n",
      "\n",
      "\n",
      "Visit ID: 27300_6\n",
      "Protein_IDs match: True\n",
      "NPX match: True\n",
      "UPDRS are NaN: True\n",
      "\n",
      "\n",
      "Visit ID: 30894_6\n",
      "Protein_IDs match: True\n",
      "NPX match: True\n",
      "UPDRS are NaN: True\n",
      "\n",
      "\n",
      "Visit ID: 33108_6\n",
      "Protein_IDs match: True\n",
      "NPX match: True\n",
      "UPDRS are NaN: True\n",
      "\n",
      "\n",
      "Visit ID: 35477_6\n",
      "Protein_IDs match: True\n",
      "NPX match: True\n",
      "UPDRS are NaN: True\n",
      "\n",
      "\n",
      "Visit ID: 39144_6\n",
      "Protein_IDs match: True\n",
      "NPX match: True\n",
      "UPDRS are NaN: True\n",
      "\n",
      "\n",
      "Visit ID: 41617_6\n",
      "Protein_IDs match: True\n",
      "NPX match: True\n",
      "UPDRS are NaN: True\n",
      "\n",
      "\n",
      "Visit ID: 41628_6\n",
      "Protein_IDs match: True\n",
      "NPX match: True\n",
      "UPDRS are NaN: True\n",
      "\n",
      "\n",
      "Visit ID: 42579_6\n",
      "Protein_IDs match: True\n",
      "NPX match: True\n",
      "UPDRS are NaN: True\n",
      "\n",
      "\n",
      "Visit ID: 47171_6\n",
      "Protein_IDs match: True\n",
      "NPX match: True\n",
      "UPDRS are NaN: True\n",
      "\n",
      "\n",
      "Visit ID: 48780_6\n",
      "Protein_IDs match: True\n",
      "NPX match: True\n",
      "UPDRS are NaN: True\n",
      "\n",
      "\n",
      "Visit ID: 49683_6\n",
      "Protein_IDs match: True\n",
      "NPX match: True\n",
      "UPDRS are NaN: True\n",
      "\n",
      "\n",
      "Visit ID: 54095_6\n",
      "Protein_IDs match: True\n",
      "NPX match: True\n",
      "UPDRS are NaN: True\n",
      "\n",
      "\n",
      "Visit ID: 55302_6\n",
      "Protein_IDs match: True\n",
      "NPX match: True\n",
      "UPDRS are NaN: True\n",
      "\n",
      "\n",
      "Visit ID: 57009_6\n",
      "Protein_IDs match: True\n",
      "NPX match: True\n",
      "UPDRS are NaN: True\n",
      "\n",
      "\n",
      "Visit ID: 58270_6\n",
      "Protein_IDs match: True\n",
      "NPX match: True\n",
      "UPDRS are NaN: True\n",
      "\n",
      "\n",
      "Visit ID: 58648_6\n",
      "Protein_IDs match: True\n",
      "NPX match: True\n",
      "UPDRS are NaN: True\n",
      "\n",
      "\n",
      "Visit ID: 58674_6\n",
      "Protein_IDs match: True\n",
      "NPX match: True\n",
      "UPDRS are NaN: True\n",
      "\n",
      "\n",
      "Visit ID: 60443_6\n",
      "Protein_IDs match: True\n",
      "NPX match: True\n",
      "UPDRS are NaN: True\n",
      "\n",
      "\n",
      "Visit ID: 60788_6\n",
      "Protein_IDs match: True\n",
      "NPX match: True\n",
      "UPDRS are NaN: True\n",
      "\n",
      "\n",
      "Visit ID: 27715_36\n",
      "Protein_IDs match: True\n",
      "NPX match: True\n",
      "UPDRS are NaN: True\n",
      "\n",
      "\n",
      "Visit ID: 60170_36\n",
      "Protein_IDs match: True\n",
      "NPX match: True\n",
      "UPDRS are NaN: True\n",
      "\n",
      "\n",
      "Visit ID: 26005_48\n",
      "Protein_IDs match: True\n",
      "NPX match: True\n",
      "UPDRS are NaN: True\n",
      "\n",
      "\n",
      "Visit ID: 12703_108\n",
      "Protein_IDs match: True\n",
      "NPX match: True\n",
      "UPDRS are NaN: True\n",
      "\n",
      "\n"
     ]
    }
   ],
   "source": [
    "protein_cols = Get_ALL_Protein_Names(protein_data)\n",
    "target_cols = Get_Targets(clinical_data)\n",
    "\n",
    "# Testing the rows where only protein measurements were taken\n",
    "test_visit_ID = Find_Visit_ID_Only_Protein_Measured(clinical_data, protein_data)\n",
    "\n",
    "# Loop over visit_id where only protein measurements were taken\n",
    "for vis_id in test_visit_ID:\n",
    "    # Retrieve Protein and NPX values from df, drop all NAN columns\n",
    "    row_df = df[protein_cols].loc[df['visit_id']==vis_id]\n",
    "    row_df = row_df[sorted(protein_cols)].dropna(axis=1)\n",
    "    # Retrieve Protein and NPX\n",
    "    prodat_df = protein_data.loc[protein_data['visit_id']==vis_id][['UniProt', 'NPX']]\n",
    "    # Check that protein ids match\n",
    "    print('Visit ID:',vis_id)\n",
    "    print('Protein_IDs match:', row_df.columns.tolist() == prodat_df['UniProt'].tolist())\n",
    "    # Check that NPX values match\n",
    "    print('NPX match:', row_df.values.tolist()[0] == prodat_df['NPX'].tolist())\n",
    "    # Check that the UPDRs are all NaN\n",
    "    print('UPDRS are NaN:', df[target_cols].loc[df['visit_id']==vis_id].isna().sum().sum()==4) \n",
    "    print('\\n')"
   ]
  },
  {
   "cell_type": "markdown",
   "id": "f0a749f2",
   "metadata": {},
   "source": [
    "### Create training data (all visit_months == 0 OR 3)"
   ]
  },
  {
   "cell_type": "code",
   "execution_count": 105,
   "id": "a4d919e2",
   "metadata": {},
   "outputs": [],
   "source": [
    "from sklearn.linear_model import LogisticRegression\n",
    "from sklearn.model_selection import train_test_split, StratifiedKFold, cross_val_score\n",
    "from sklearn.impute import SimpleImputer\n",
    "from sklearn.preprocessing import StandardScaler, OneHotEncoder\n",
    "from sklearn.compose import ColumnTransformer\n",
    "from sklearn.pipeline import Pipeline"
   ]
  },
  {
   "cell_type": "code",
   "execution_count": 106,
   "id": "83f6091a",
   "metadata": {},
   "outputs": [],
   "source": [
    "target_cols = Get_Targets(clinical_data)\n",
    "protein_cols = Get_ALL_Protein_Names(protein_data)\n",
    "\n",
    "# train the model using measurements taken from months 0 and 3\n",
    "X_train = df.drop(target_cols + ['visit_id', 'patient_id'], axis=1).loc[(df['visit_month'] == 0) | (df['visit_month'] == 3)]\n",
    "y_train = df[target_cols].loc[(df['visit_month'] == 0) | (df['visit_month'] == 3)]\n",
    "y_train = y_train.drop('updrs_4', axis=1)\n",
    "\n",
    "# drop NaN rows\n",
    "# Get indices with NaN in row\n",
    "inds = pd.isnull(y_train).any(1).to_numpy().nonzero()[0].tolist()\n",
    "inds = y_train.index[inds].tolist()\n",
    "X_train = X_train.drop(inds, axis=0)\n",
    "y_train = y_train.dropna()"
   ]
  },
  {
   "cell_type": "code",
   "execution_count": 107,
   "id": "25a98970",
   "metadata": {},
   "outputs": [
    {
     "data": {
      "text/plain": [
       "updrs_1    0\n",
       "updrs_2    0\n",
       "updrs_3    0\n",
       "dtype: int64"
      ]
     },
     "execution_count": 107,
     "metadata": {},
     "output_type": "execute_result"
    }
   ],
   "source": [
    "y_train.isna().sum()"
   ]
  },
  {
   "cell_type": "code",
   "execution_count": 108,
   "id": "136402c2",
   "metadata": {},
   "outputs": [
    {
     "name": "stdout",
     "output_type": "stream",
     "text": [
      "True\n"
     ]
    }
   ],
   "source": [
    "#check that indices between X_train and y_train match\n",
    "print((X_train.index == y_train.index).sum() == len(X_train.index))"
   ]
  },
  {
   "cell_type": "markdown",
   "id": "ea7b052b",
   "metadata": {},
   "source": [
    "### Create preprocessing pipelines"
   ]
  },
  {
   "cell_type": "code",
   "execution_count": 109,
   "id": "0cedd36c",
   "metadata": {},
   "outputs": [],
   "source": [
    "# Define transforms on numeric types\n",
    "numeric_transformer_X = Pipeline(steps=[\n",
    "    ('imputer', SimpleImputer(strategy='mean')),\n",
    "    ('scaler', StandardScaler())])\n",
    "\n",
    "numeric_transformer_y = Pipeline(steps=[\n",
    "    ('scaler', StandardScaler())])\n",
    "\n",
    "# Define transforms on categorical types\n",
    "categorical_transformer = Pipeline(steps=[\n",
    "    ('onehot', OneHotEncoder(handle_unknown='ignore'))])\n",
    "\n",
    "# Construct ColumnTransformer object for X\n",
    "preprocessor_X = ColumnTransformer(\n",
    "    transformers=[\n",
    "        ('num', numeric_transformer_X, protein_cols + ['visit_month']),\n",
    "        ('cat', categorical_transformer, [Get_Patient_Info(clinical_data)[-1]])\n",
    "    ],\n",
    "    remainder='passthrough',\n",
    "    verbose=True,\n",
    "    verbose_feature_names_out=True)"
   ]
  },
  {
   "cell_type": "markdown",
   "id": "f1dade3d",
   "metadata": {},
   "source": [
    "## 25th Percentile Training"
   ]
  },
  {
   "cell_type": "code",
   "execution_count": 110,
   "id": "6c634b0c",
   "metadata": {},
   "outputs": [],
   "source": [
    "# Create columns with boolean labels that depend on whether the entry > the 25th percentile of the column\n",
    "for col in y_train.columns:\n",
    "    percentile_25 = y_train[col].quantile(0.25)\n",
    "    y_train.loc[:, col+'_bool'] = y_train[col] > percentile_25\n",
    "    \n",
    "# throw out numeric columns\n",
    "y_train_bool_cols = y_train.columns[3:6].tolist()\n",
    "y_train = y_train[y_train_bool_cols]"
   ]
  },
  {
   "cell_type": "code",
   "execution_count": 111,
   "id": "c936d1c7",
   "metadata": {},
   "outputs": [],
   "source": [
    "# Train-Test-Split Method\n",
    "#X_train, X_test, y_train, y_test = train_test_split(X_train, y_train, test_size=0.33, random_state=42)"
   ]
  },
  {
   "cell_type": "markdown",
   "id": "90675466",
   "metadata": {},
   "source": [
    "### UPDRS_1"
   ]
  },
  {
   "cell_type": "code",
   "execution_count": 112,
   "id": "b7fa3aa6",
   "metadata": {},
   "outputs": [
    {
     "name": "stdout",
     "output_type": "stream",
     "text": [
      "[ColumnTransformer] ........... (1 of 2) Processing num, total=   0.0s\n",
      "[ColumnTransformer] ........... (2 of 2) Processing cat, total=   0.0s\n"
     ]
    }
   ],
   "source": [
    "# Train the model to predict updrs_1_bool\n",
    "clf1_25 = LogisticRegression(fit_intercept=False, penalty='l2', solver='liblinear').fit(preprocessor_X.fit_transform(X_train),\n",
    "                                                                                      y_train['updrs_1_bool'])"
   ]
  },
  {
   "cell_type": "code",
   "execution_count": 113,
   "id": "6f350b90",
   "metadata": {},
   "outputs": [
    {
     "name": "stdout",
     "output_type": "stream",
     "text": [
      "[ColumnTransformer] ........... (1 of 2) Processing num, total=   0.0s\n",
      "[ColumnTransformer] ........... (2 of 2) Processing cat, total=   0.0s\n"
     ]
    },
    {
     "data": {
      "text/plain": [
       "array([0.65753425, 0.60273973, 0.52777778, 0.52777778, 0.61111111])"
      ]
     },
     "execution_count": 113,
     "metadata": {},
     "output_type": "execute_result"
    }
   ],
   "source": [
    "#Cross-Validation Method\n",
    "folds = 5\n",
    "skf = StratifiedKFold(folds, shuffle=True, random_state=1)\n",
    "cross_val_score(clf1_25, preprocessor_X.fit_transform(X_train), y_train['updrs_1_bool'], cv=skf, scoring='accuracy')"
   ]
  },
  {
   "cell_type": "markdown",
   "id": "c6df9677",
   "metadata": {},
   "source": [
    "### UPDRS_2"
   ]
  },
  {
   "cell_type": "code",
   "execution_count": 114,
   "id": "d805bf94",
   "metadata": {},
   "outputs": [
    {
     "name": "stdout",
     "output_type": "stream",
     "text": [
      "[ColumnTransformer] ........... (1 of 2) Processing num, total=   0.0s\n",
      "[ColumnTransformer] ........... (2 of 2) Processing cat, total=   0.0s\n"
     ]
    }
   ],
   "source": [
    "# Train the model to predict updrs_1_bool\n",
    "clf2_25 = LogisticRegression(fit_intercept=False, penalty='l2', solver='liblinear').fit(preprocessor_X.fit_transform(X_train),\n",
    "                                                                                      y_train['updrs_2_bool'])"
   ]
  },
  {
   "cell_type": "code",
   "execution_count": 115,
   "id": "8f1575b5",
   "metadata": {},
   "outputs": [
    {
     "name": "stdout",
     "output_type": "stream",
     "text": [
      "[ColumnTransformer] ........... (1 of 2) Processing num, total=   0.0s\n",
      "[ColumnTransformer] ........... (2 of 2) Processing cat, total=   0.0s\n"
     ]
    },
    {
     "data": {
      "text/plain": [
       "array([0.69863014, 0.67123288, 0.68055556, 0.70833333, 0.68055556])"
      ]
     },
     "execution_count": 115,
     "metadata": {},
     "output_type": "execute_result"
    }
   ],
   "source": [
    "#Cross-Validation Method\n",
    "folds = 5\n",
    "skf = StratifiedKFold(folds, shuffle=True, random_state=1)\n",
    "cross_val_score(clf2_25, preprocessor_X.fit_transform(X_train), y_train['updrs_2_bool'], cv=skf, scoring='accuracy')"
   ]
  },
  {
   "cell_type": "markdown",
   "id": "81160fc2",
   "metadata": {},
   "source": [
    "### UPDRS_3"
   ]
  },
  {
   "cell_type": "code",
   "execution_count": 116,
   "id": "d2cedad8",
   "metadata": {},
   "outputs": [
    {
     "name": "stdout",
     "output_type": "stream",
     "text": [
      "[ColumnTransformer] ........... (1 of 2) Processing num, total=   0.0s\n",
      "[ColumnTransformer] ........... (2 of 2) Processing cat, total=   0.0s\n"
     ]
    }
   ],
   "source": [
    "# Train the model to predict updrs_1_bool\n",
    "clf3_25 = LogisticRegression(fit_intercept=False, penalty='l2', solver='liblinear').fit(preprocessor_X.fit_transform(X_train),\n",
    "                                                                                      y_train['updrs_3_bool'])"
   ]
  },
  {
   "cell_type": "code",
   "execution_count": 117,
   "id": "afe560e4",
   "metadata": {},
   "outputs": [
    {
     "name": "stdout",
     "output_type": "stream",
     "text": [
      "[ColumnTransformer] ........... (1 of 2) Processing num, total=   0.0s\n",
      "[ColumnTransformer] ........... (2 of 2) Processing cat, total=   0.0s\n"
     ]
    },
    {
     "data": {
      "text/plain": [
       "array([0.7260274 , 0.75342466, 0.72222222, 0.73611111, 0.69444444])"
      ]
     },
     "execution_count": 117,
     "metadata": {},
     "output_type": "execute_result"
    }
   ],
   "source": [
    "#Cross-Validation Method\n",
    "folds = 5\n",
    "skf = StratifiedKFold(folds, shuffle=True, random_state=1)\n",
    "cross_val_score(clf3_25, preprocessor_X.fit_transform(X_train), y_train['updrs_3_bool'], cv=skf, scoring='accuracy')"
   ]
  },
  {
   "cell_type": "markdown",
   "id": "a06e02f2",
   "metadata": {},
   "source": [
    "## 50th Percentile Training"
   ]
  },
  {
   "cell_type": "code",
   "execution_count": 118,
   "id": "b459cfad",
   "metadata": {},
   "outputs": [],
   "source": [
    "target_cols = Get_Targets(clinical_data)\n",
    "protein_cols = Get_ALL_Protein_Names(protein_data)\n",
    "\n",
    "# train the model using measurements taken from months 0 and 3\n",
    "X_train = df.drop(target_cols + ['visit_id', 'patient_id'], axis=1).loc[(df['visit_month'] == 0) | (df['visit_month'] == 3)]\n",
    "y_train = df[target_cols].loc[(df['visit_month'] == 0) | (df['visit_month'] == 3)]\n",
    "y_train = y_train.drop('updrs_4', axis=1)\n",
    "\n",
    "# drop NaN rows\n",
    "# Get indices with NaN in row\n",
    "inds = pd.isnull(y_train).any(1).to_numpy().nonzero()[0].tolist()\n",
    "inds = y_train.index[inds].tolist()\n",
    "X_train = X_train.drop(inds, axis=0)\n",
    "y_train = y_train.dropna()"
   ]
  },
  {
   "cell_type": "code",
   "execution_count": 119,
   "id": "eb2d4c60",
   "metadata": {},
   "outputs": [],
   "source": [
    "# Create columns with boolean labels that depend on whether the entry > the 25th percentile of the column\n",
    "for col in y_train.columns:\n",
    "    percentile_50 = y_train[col].quantile(0.50)\n",
    "    y_train.loc[:, col+'_bool'] = y_train[col] > percentile_50\n",
    "    \n",
    "# throw out numeric columns\n",
    "y_train_bool_cols = y_train.columns[3:6].tolist()\n",
    "y_train = y_train[y_train_bool_cols]"
   ]
  },
  {
   "cell_type": "markdown",
   "id": "3ba39f6e",
   "metadata": {},
   "source": [
    "### UPDRS_1"
   ]
  },
  {
   "cell_type": "code",
   "execution_count": 120,
   "id": "e2a70cc8",
   "metadata": {},
   "outputs": [
    {
     "name": "stdout",
     "output_type": "stream",
     "text": [
      "[ColumnTransformer] ........... (1 of 2) Processing num, total=   0.0s\n",
      "[ColumnTransformer] ........... (2 of 2) Processing cat, total=   0.0s\n"
     ]
    }
   ],
   "source": [
    "# Train the model to predict updrs_1_bool\n",
    "clf1_50 = LogisticRegression(fit_intercept=False, penalty='l2', solver='liblinear').fit(preprocessor_X.fit_transform(X_train),\n",
    "                                                                                      y_train['updrs_1_bool'])"
   ]
  },
  {
   "cell_type": "code",
   "execution_count": 121,
   "id": "87eaba59",
   "metadata": {},
   "outputs": [
    {
     "name": "stdout",
     "output_type": "stream",
     "text": [
      "[ColumnTransformer] ........... (1 of 2) Processing num, total=   0.0s\n",
      "[ColumnTransformer] ........... (2 of 2) Processing cat, total=   0.0s\n"
     ]
    },
    {
     "data": {
      "text/plain": [
       "array([0.50684932, 0.54794521, 0.59722222, 0.54166667, 0.55555556])"
      ]
     },
     "execution_count": 121,
     "metadata": {},
     "output_type": "execute_result"
    }
   ],
   "source": [
    "#Cross-Validation Method\n",
    "folds = 5\n",
    "skf = StratifiedKFold(folds, shuffle=True, random_state=1)\n",
    "cross_val_score(clf1_50, preprocessor_X.fit_transform(X_train), y_train['updrs_1_bool'], cv=skf, scoring='accuracy')"
   ]
  },
  {
   "cell_type": "markdown",
   "id": "8528cd6c",
   "metadata": {},
   "source": [
    "### UPDRS_2"
   ]
  },
  {
   "cell_type": "code",
   "execution_count": 122,
   "id": "9ba63889",
   "metadata": {},
   "outputs": [
    {
     "name": "stdout",
     "output_type": "stream",
     "text": [
      "[ColumnTransformer] ........... (1 of 2) Processing num, total=   0.0s\n",
      "[ColumnTransformer] ........... (2 of 2) Processing cat, total=   0.0s\n"
     ]
    }
   ],
   "source": [
    "# Train the model to predict updrs_1_bool\n",
    "clf2_50 = LogisticRegression(fit_intercept=False, penalty='l2', solver='liblinear').fit(preprocessor_X.fit_transform(X_train),\n",
    "                                                                                      y_train['updrs_2_bool'])"
   ]
  },
  {
   "cell_type": "code",
   "execution_count": 123,
   "id": "055eacfb",
   "metadata": {},
   "outputs": [
    {
     "name": "stdout",
     "output_type": "stream",
     "text": [
      "[ColumnTransformer] ........... (1 of 2) Processing num, total=   0.0s\n",
      "[ColumnTransformer] ........... (2 of 2) Processing cat, total=   0.0s\n"
     ]
    },
    {
     "data": {
      "text/plain": [
       "array([0.56164384, 0.49315068, 0.51388889, 0.56944444, 0.56944444])"
      ]
     },
     "execution_count": 123,
     "metadata": {},
     "output_type": "execute_result"
    }
   ],
   "source": [
    "#Cross-Validation Method\n",
    "folds = 5\n",
    "skf = StratifiedKFold(folds, shuffle=True, random_state=1)\n",
    "cross_val_score(clf2_50, preprocessor_X.fit_transform(X_train), y_train['updrs_2_bool'], cv=skf, scoring='accuracy')"
   ]
  },
  {
   "cell_type": "markdown",
   "id": "7e8ca40e",
   "metadata": {},
   "source": [
    "### UPDRS_3"
   ]
  },
  {
   "cell_type": "code",
   "execution_count": 124,
   "id": "d8bb065a",
   "metadata": {},
   "outputs": [
    {
     "name": "stdout",
     "output_type": "stream",
     "text": [
      "[ColumnTransformer] ........... (1 of 2) Processing num, total=   0.0s\n",
      "[ColumnTransformer] ........... (2 of 2) Processing cat, total=   0.0s\n"
     ]
    }
   ],
   "source": [
    "# Train the model to predict updrs_1_bool\n",
    "clf3_50 = LogisticRegression(fit_intercept=False, penalty='l2', solver='liblinear').fit(preprocessor_X.fit_transform(X_train),\n",
    "                                                                                      y_train['updrs_3_bool'])"
   ]
  },
  {
   "cell_type": "code",
   "execution_count": 125,
   "id": "46878109",
   "metadata": {},
   "outputs": [
    {
     "name": "stdout",
     "output_type": "stream",
     "text": [
      "[ColumnTransformer] ........... (1 of 2) Processing num, total=   0.0s\n",
      "[ColumnTransformer] ........... (2 of 2) Processing cat, total=   0.0s\n"
     ]
    },
    {
     "data": {
      "text/plain": [
       "array([0.64383562, 0.56164384, 0.625     , 0.47222222, 0.58333333])"
      ]
     },
     "execution_count": 125,
     "metadata": {},
     "output_type": "execute_result"
    }
   ],
   "source": [
    "#Cross-Validation Method\n",
    "folds = 5\n",
    "skf = StratifiedKFold(folds, shuffle=True, random_state=1)\n",
    "cross_val_score(clf3_50, preprocessor_X.fit_transform(X_train), y_train['updrs_3_bool'], cv=skf, scoring='accuracy')"
   ]
  },
  {
   "cell_type": "markdown",
   "id": "28873028",
   "metadata": {},
   "source": [
    "## 75th Percentile Training"
   ]
  },
  {
   "cell_type": "code",
   "execution_count": 126,
   "id": "7dcaafae",
   "metadata": {},
   "outputs": [],
   "source": [
    "target_cols = Get_Targets(clinical_data)\n",
    "protein_cols = Get_ALL_Protein_Names(protein_data)\n",
    "\n",
    "# train the model using measurements taken from months 0 and 3\n",
    "X_train = df.drop(target_cols + ['visit_id', 'patient_id'], axis=1).loc[(df['visit_month'] == 0) | (df['visit_month'] == 3)]\n",
    "y_train = df[target_cols].loc[(df['visit_month'] == 0) | (df['visit_month'] == 3)]\n",
    "y_train = y_train.drop('updrs_4', axis=1)\n",
    "\n",
    "# drop NaN rows\n",
    "# Get indices with NaN in row\n",
    "inds = pd.isnull(y_train).any(1).to_numpy().nonzero()[0].tolist()\n",
    "inds = y_train.index[inds].tolist()\n",
    "X_train = X_train.drop(inds, axis=0)\n",
    "y_train = y_train.dropna()"
   ]
  },
  {
   "cell_type": "code",
   "execution_count": 127,
   "id": "9100663f",
   "metadata": {},
   "outputs": [],
   "source": [
    "# Create columns with boolean labels that depend on whether the entry > the 25th percentile of the column\n",
    "for col in y_train.columns:\n",
    "    percentile_75 = y_train[col].quantile(0.75)\n",
    "    y_train.loc[:, col+'_bool'] = y_train[col] > percentile_75\n",
    "    \n",
    "# throw out numeric columns\n",
    "y_train_bool_cols = y_train.columns[3:6].tolist()\n",
    "y_train = y_train[y_train_bool_cols]"
   ]
  },
  {
   "cell_type": "markdown",
   "id": "58f801f2",
   "metadata": {},
   "source": [
    "### UPDRS_1"
   ]
  },
  {
   "cell_type": "code",
   "execution_count": 128,
   "id": "0e9a31cc",
   "metadata": {},
   "outputs": [
    {
     "name": "stdout",
     "output_type": "stream",
     "text": [
      "[ColumnTransformer] ........... (1 of 2) Processing num, total=   0.0s\n",
      "[ColumnTransformer] ........... (2 of 2) Processing cat, total=   0.0s\n"
     ]
    }
   ],
   "source": [
    "# Train the model to predict updrs_1_bool\n",
    "clf1_75 = LogisticRegression(fit_intercept=False, penalty='l2', solver='liblinear').fit(preprocessor_X.fit_transform(X_train),\n",
    "                                                                                      y_train['updrs_1_bool'])"
   ]
  },
  {
   "cell_type": "code",
   "execution_count": 129,
   "id": "d9c40bea",
   "metadata": {},
   "outputs": [
    {
     "name": "stdout",
     "output_type": "stream",
     "text": [
      "[ColumnTransformer] ........... (1 of 2) Processing num, total=   0.0s\n",
      "[ColumnTransformer] ........... (2 of 2) Processing cat, total=   0.0s\n"
     ]
    },
    {
     "data": {
      "text/plain": [
       "array([0.67123288, 0.67123288, 0.66666667, 0.61111111, 0.69444444])"
      ]
     },
     "execution_count": 129,
     "metadata": {},
     "output_type": "execute_result"
    }
   ],
   "source": [
    "#Cross-Validation Method\n",
    "folds = 5\n",
    "skf = StratifiedKFold(folds, shuffle=True, random_state=1)\n",
    "cross_val_score(clf1_75, preprocessor_X.fit_transform(X_train), y_train['updrs_1_bool'], cv=skf, scoring='accuracy')"
   ]
  },
  {
   "cell_type": "markdown",
   "id": "a00bce22",
   "metadata": {},
   "source": [
    "### UPDRS_2"
   ]
  },
  {
   "cell_type": "code",
   "execution_count": 130,
   "id": "06248ac6",
   "metadata": {},
   "outputs": [
    {
     "name": "stdout",
     "output_type": "stream",
     "text": [
      "[ColumnTransformer] ........... (1 of 2) Processing num, total=   0.0s\n",
      "[ColumnTransformer] ........... (2 of 2) Processing cat, total=   0.0s\n"
     ]
    }
   ],
   "source": [
    "# Train the model to predict updrs_1_bool\n",
    "clf2_75 = LogisticRegression(fit_intercept=False, penalty='l2', solver='liblinear').fit(preprocessor_X.fit_transform(X_train),\n",
    "                                                                                      y_train['updrs_2_bool'])"
   ]
  },
  {
   "cell_type": "code",
   "execution_count": 131,
   "id": "bd5c6b1e",
   "metadata": {},
   "outputs": [
    {
     "name": "stdout",
     "output_type": "stream",
     "text": [
      "[ColumnTransformer] ........... (1 of 2) Processing num, total=   0.0s\n",
      "[ColumnTransformer] ........... (2 of 2) Processing cat, total=   0.0s\n"
     ]
    },
    {
     "data": {
      "text/plain": [
       "array([0.63013699, 0.61643836, 0.625     , 0.56944444, 0.55555556])"
      ]
     },
     "execution_count": 131,
     "metadata": {},
     "output_type": "execute_result"
    }
   ],
   "source": [
    "#Cross-Validation Method\n",
    "folds = 5\n",
    "skf = StratifiedKFold(folds, shuffle=True, random_state=1)\n",
    "cross_val_score(clf2_75, preprocessor_X.fit_transform(X_train), y_train['updrs_2_bool'], cv=skf, scoring='accuracy')"
   ]
  },
  {
   "cell_type": "markdown",
   "id": "d543b743",
   "metadata": {},
   "source": [
    "### UPDRS_3"
   ]
  },
  {
   "cell_type": "code",
   "execution_count": 132,
   "id": "d4c8aca0",
   "metadata": {},
   "outputs": [
    {
     "name": "stdout",
     "output_type": "stream",
     "text": [
      "[ColumnTransformer] ........... (1 of 2) Processing num, total=   0.0s\n",
      "[ColumnTransformer] ........... (2 of 2) Processing cat, total=   0.0s\n"
     ]
    }
   ],
   "source": [
    "# Train the model to predict updrs_1_bool\n",
    "clf3_75 = LogisticRegression(fit_intercept=False, penalty='l2', solver='liblinear').fit(preprocessor_X.fit_transform(X_train),\n",
    "                                                                                      y_train['updrs_3_bool'])"
   ]
  },
  {
   "cell_type": "code",
   "execution_count": 133,
   "id": "350c9d06",
   "metadata": {},
   "outputs": [
    {
     "name": "stdout",
     "output_type": "stream",
     "text": [
      "[ColumnTransformer] ........... (1 of 2) Processing num, total=   0.0s\n",
      "[ColumnTransformer] ........... (2 of 2) Processing cat, total=   0.0s\n"
     ]
    },
    {
     "data": {
      "text/plain": [
       "array([0.67123288, 0.73972603, 0.59722222, 0.61111111, 0.65277778])"
      ]
     },
     "execution_count": 133,
     "metadata": {},
     "output_type": "execute_result"
    }
   ],
   "source": [
    "#Cross-Validation Method\n",
    "folds = 5\n",
    "skf = StratifiedKFold(folds, shuffle=True, random_state=1)\n",
    "cross_val_score(clf3_75, preprocessor_X.fit_transform(X_train), y_train['updrs_3_bool'], cv=skf, scoring='accuracy')"
   ]
  }
 ],
 "metadata": {
  "kernelspec": {
   "display_name": "Python 3 (ipykernel)",
   "language": "python",
   "name": "python3"
  },
  "language_info": {
   "codemirror_mode": {
    "name": "ipython",
    "version": 3
   },
   "file_extension": ".py",
   "mimetype": "text/x-python",
   "name": "python",
   "nbconvert_exporter": "python",
   "pygments_lexer": "ipython3",
   "version": "3.9.13"
  }
 },
 "nbformat": 4,
 "nbformat_minor": 5
}
